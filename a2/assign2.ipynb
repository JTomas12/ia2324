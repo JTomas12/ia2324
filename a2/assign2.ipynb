{
 "cells": [
  {
   "cell_type": "markdown",
   "metadata": {},
   "source": [
    "# Glioma Grading Clinical and Mutation Features\n",
    "## Importing Libraries"
   ]
  },
  {
   "cell_type": "code",
   "execution_count": 67,
   "metadata": {},
   "outputs": [],
   "source": [
    "import pandas as pd\n",
    "import numpy as np\n",
    "import seaborn as sb\n",
    "import matplotlib.pyplot as plt"
   ]
  },
  {
   "cell_type": "markdown",
   "metadata": {},
   "source": [
    "## Reading data"
   ]
  },
  {
   "cell_type": "code",
   "execution_count": 68,
   "metadata": {},
   "outputs": [],
   "source": [
    "glioma_data = pd.read_csv(\"TCGA_InfoWithGrade.csv\")"
   ]
  },
  {
   "cell_type": "markdown",
   "metadata": {},
   "source": [
    "## Separating data into training and test"
   ]
  },
  {
   "cell_type": "code",
   "execution_count": 69,
   "metadata": {},
   "outputs": [],
   "source": [
    "from sklearn.model_selection import train_test_split\n",
    "from sklearn.metrics import accuracy_score, classification_report, confusion_matrix\n",
    "\n",
    "values = glioma_data[\n",
    "    [\n",
    "        \"Gender\",\n",
    "        \"Age_at_diagnosis\",\n",
    "        \"Race\",\n",
    "        \"IDH1\",\n",
    "        \"TP53\",\n",
    "        \"ATRX\",\n",
    "        \"PTEN\",\n",
    "        \"EGFR\",\n",
    "        \"CIC\",\n",
    "        \"MUC16\",\n",
    "        \"PIK3CA\",\n",
    "        \"NF1\",\n",
    "        \"PIK3R1\",\n",
    "        \"FUBP1\",\n",
    "        \"RB1\",\n",
    "        \"NOTCH1\",\n",
    "        \"BCOR\",\n",
    "        \"CSMD3\",\n",
    "        \"SMARCA4\",\n",
    "        \"GRIN2A\",\n",
    "        \"IDH2\",\n",
    "        \"FAT4\",\n",
    "        \"PDGFRA\",\n",
    "    ]\n",
    "]\n",
    "\n",
    "target = glioma_data[\"Grade\"]\n",
    "\n",
    "(training_values,\n",
    " testing_values,\n",
    " training_target,\n",
    " testing_target) = train_test_split(values, target, test_size=0.25, random_state=1)\n",
    "\n"
   ]
  },
  {
   "cell_type": "markdown",
   "metadata": {},
   "source": [
    "# K-Nearest Neighbours"
   ]
  },
  {
   "cell_type": "code",
   "execution_count": 70,
   "metadata": {},
   "outputs": [
    {
     "name": "stdout",
     "output_type": "stream",
     "text": [
      "Accuracy: 0.7666666666666667\n",
      "              precision    recall  f1-score   support\n",
      "\n",
      "           0       0.78      0.81      0.79       115\n",
      "           1       0.76      0.72      0.74        95\n",
      "\n",
      "    accuracy                           0.77       210\n",
      "   macro avg       0.77      0.76      0.76       210\n",
      "weighted avg       0.77      0.77      0.77       210\n",
      "\n",
      "[[93 22]\n",
      " [27 68]]\n"
     ]
    }
   ],
   "source": [
    "from sklearn.neighbors import KNeighborsClassifier\n",
    "\n",
    "knn = KNeighborsClassifier(n_neighbors=5)\n",
    "\n",
    "knn.fit(training_values, training_target)\n",
    "\n",
    "target_pred = knn.predict(testing_values)\n",
    "\n",
    "accuracy = accuracy_score(testing_target, target_pred)\n",
    "\n",
    "print(f\"Accuracy: {accuracy}\")\n",
    "\n",
    "print(classification_report(testing_target, target_pred))\n",
    "\n",
    "print(confusion_matrix(testing_target, target_pred))"
   ]
  },
  {
   "cell_type": "markdown",
   "metadata": {},
   "source": [
    "## SVM\n",
    "### Linear kernel"
   ]
  },
  {
   "cell_type": "code",
   "execution_count": 71,
   "metadata": {},
   "outputs": [
    {
     "name": "stdout",
     "output_type": "stream",
     "text": [
      "Accuracy: 0.861904761904762\n",
      "              precision    recall  f1-score   support\n",
      "\n",
      "           0       0.91      0.83      0.87       115\n",
      "           1       0.82      0.89      0.85        95\n",
      "\n",
      "    accuracy                           0.86       210\n",
      "   macro avg       0.86      0.86      0.86       210\n",
      "weighted avg       0.87      0.86      0.86       210\n",
      "\n",
      "[[96 19]\n",
      " [10 85]]\n"
     ]
    }
   ],
   "source": [
    "from sklearn.svm import SVC\n",
    "\n",
    "svm_model = SVC(kernel=\"linear\")\n",
    "\n",
    "svm_model.fit(training_values, training_target)\n",
    "\n",
    "target_pred = svm_model.predict(testing_values)\n",
    "\n",
    "accuracy = accuracy_score(testing_target, target_pred)\n",
    "print(f\"Accuracy: {accuracy}\")\n",
    "\n",
    "print(classification_report(testing_target, target_pred))\n",
    "\n",
    "print(confusion_matrix(testing_target, target_pred))"
   ]
  },
  {
   "cell_type": "markdown",
   "metadata": {},
   "source": [
    "### Sigmoid kernel"
   ]
  },
  {
   "cell_type": "code",
   "execution_count": 72,
   "metadata": {},
   "outputs": [
    {
     "name": "stdout",
     "output_type": "stream",
     "text": [
      "Accuracy: 0.37142857142857144\n",
      "              precision    recall  f1-score   support\n",
      "\n",
      "           0       0.44      0.53      0.48       115\n",
      "           1       0.24      0.18      0.20        95\n",
      "\n",
      "    accuracy                           0.37       210\n",
      "   macro avg       0.34      0.35      0.34       210\n",
      "weighted avg       0.35      0.37      0.36       210\n",
      "\n",
      "[[61 54]\n",
      " [78 17]]\n"
     ]
    }
   ],
   "source": [
    "svm_model = SVC(kernel=\"sigmoid\")\n",
    "\n",
    "svm_model.fit(training_values, training_target)\n",
    "\n",
    "target_pred = svm_model.predict(testing_values)\n",
    "\n",
    "accuracy = accuracy_score(testing_target, target_pred)\n",
    "print(f\"Accuracy: {accuracy}\")\n",
    "\n",
    "print(classification_report(testing_target, target_pred))\n",
    "\n",
    "print(confusion_matrix(testing_target, target_pred))"
   ]
  },
  {
   "cell_type": "markdown",
   "metadata": {},
   "source": [
    "### Polynomial kernel"
   ]
  },
  {
   "cell_type": "code",
   "execution_count": 73,
   "metadata": {},
   "outputs": [
    {
     "name": "stdout",
     "output_type": "stream",
     "text": [
      "Accuracy: 0.6904761904761905\n",
      "              precision    recall  f1-score   support\n",
      "\n",
      "           0       0.68      0.83      0.75       115\n",
      "           1       0.72      0.52      0.60        95\n",
      "\n",
      "    accuracy                           0.69       210\n",
      "   macro avg       0.70      0.68      0.67       210\n",
      "weighted avg       0.70      0.69      0.68       210\n",
      "\n",
      "[[96 19]\n",
      " [46 49]]\n"
     ]
    }
   ],
   "source": [
    "svm_model = SVC(kernel=\"poly\")\n",
    "\n",
    "svm_model.fit(training_values, training_target)\n",
    "\n",
    "target_pred = svm_model.predict(testing_values)\n",
    "\n",
    "accuracy = accuracy_score(testing_target, target_pred)\n",
    "print(f\"Accuracy: {accuracy}\")\n",
    "\n",
    "print(classification_report(testing_target, target_pred))\n",
    "\n",
    "print(confusion_matrix(testing_target, target_pred))"
   ]
  },
  {
   "cell_type": "markdown",
   "metadata": {},
   "source": [
    "### Radial Basis Function kernel"
   ]
  },
  {
   "cell_type": "code",
   "execution_count": 74,
   "metadata": {},
   "outputs": [
    {
     "name": "stdout",
     "output_type": "stream",
     "text": [
      "Accuracy: 0.6904761904761905\n",
      "              precision    recall  f1-score   support\n",
      "\n",
      "           0       0.68      0.82      0.74       115\n",
      "           1       0.71      0.54      0.61        95\n",
      "\n",
      "    accuracy                           0.69       210\n",
      "   macro avg       0.69      0.68      0.68       210\n",
      "weighted avg       0.69      0.69      0.68       210\n",
      "\n",
      "[[94 21]\n",
      " [44 51]]\n"
     ]
    }
   ],
   "source": [
    "svm_model = SVC(kernel=\"rbf\")\n",
    "\n",
    "svm_model.fit(training_values, training_target)\n",
    "\n",
    "target_pred = svm_model.predict(testing_values)\n",
    "\n",
    "accuracy = accuracy_score(testing_target, target_pred)\n",
    "print(f\"Accuracy: {accuracy}\")\n",
    "\n",
    "print(classification_report(testing_target, target_pred))\n",
    "\n",
    "print(confusion_matrix(testing_target, target_pred))"
   ]
  },
  {
   "cell_type": "markdown",
   "metadata": {},
   "source": [
    "## Decision trees"
   ]
  },
  {
   "cell_type": "code",
   "execution_count": 87,
   "metadata": {},
   "outputs": [
    {
     "name": "stdout",
     "output_type": "stream",
     "text": [
      "Accuracy: 0.8571428571428571\n",
      "              precision    recall  f1-score   support\n",
      "\n",
      "           0       0.90      0.83      0.86       115\n",
      "           1       0.82      0.88      0.85        95\n",
      "\n",
      "    accuracy                           0.86       210\n",
      "   macro avg       0.86      0.86      0.86       210\n",
      "weighted avg       0.86      0.86      0.86       210\n",
      "\n",
      "[[96 19]\n",
      " [11 84]]\n"
     ]
    }
   ],
   "source": [
    "from sklearn.tree import DecisionTreeClassifier\n",
    "\n",
    "decision_tree = DecisionTreeClassifier(max_depth=5, random_state=1)\n",
    "\n",
    "decision_tree.fit(training_values, training_target)\n",
    "\n",
    "target_pred = decision_tree.predict(testing_values)\n",
    "\n",
    "accuracy = accuracy_score(testing_target, target_pred)\n",
    "print(f\"Accuracy: {accuracy}\")\n",
    "\n",
    "print(classification_report(testing_target, target_pred))\n",
    "\n",
    "print(confusion_matrix(testing_target, target_pred))"
   ]
  },
  {
   "cell_type": "markdown",
   "metadata": {},
   "source": [
    "## Random Forests"
   ]
  },
  {
   "cell_type": "code",
   "execution_count": 91,
   "metadata": {},
   "outputs": [
    {
     "name": "stdout",
     "output_type": "stream",
     "text": [
      "Training Accuracy: 0.875993640699523\n",
      "Test Accuracy: 0.8285714285714286\n",
      "              precision    recall  f1-score   support\n",
      "\n",
      "           0       0.84      0.84      0.84       115\n",
      "           1       0.81      0.81      0.81        95\n",
      "\n",
      "    accuracy                           0.83       210\n",
      "   macro avg       0.83      0.83      0.83       210\n",
      "weighted avg       0.83      0.83      0.83       210\n",
      "\n",
      "[[97 18]\n",
      " [18 77]]\n"
     ]
    }
   ],
   "source": [
    "from sklearn.ensemble import RandomForestClassifier\n",
    "\n",
    "random_forest = RandomForestClassifier(n_estimators=1000, max_depth=2, random_state=1)\n",
    "\n",
    "random_forest.fit(training_values, training_target)\n",
    "\n",
    "training_target_pred = random_forest.predict(training_values)\n",
    "test_target_pred = random_forest.predict(testing_values)\n",
    "\n",
    "accuracy = accuracy_score(training_target, training_target_pred)\n",
    "print(f\"Training Accuracy: {accuracy}\")\n",
    "accuracy = accuracy_score(testing_target, test_target_pred)\n",
    "print(f\"Test Accuracy: {accuracy}\")\n",
    "\n",
    "print(classification_report(testing_target, test_target_pred))\n",
    "\n",
    "print(confusion_matrix(testing_target, test_target_pred))"
   ]
  }
 ],
 "metadata": {
  "kernelspec": {
   "display_name": "Python 3",
   "language": "python",
   "name": "python3"
  },
  "language_info": {
   "codemirror_mode": {
    "name": "ipython",
    "version": 3
   },
   "file_extension": ".py",
   "mimetype": "text/x-python",
   "name": "python",
   "nbconvert_exporter": "python",
   "pygments_lexer": "ipython3",
   "version": "3.10.12"
  }
 },
 "nbformat": 4,
 "nbformat_minor": 2
}
